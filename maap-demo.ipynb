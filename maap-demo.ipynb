{
 "cells": [
  {
   "cell_type": "code",
   "execution_count": null,
   "id": "84e1505c-5cef-4844-a310-c51b66c0c47c",
   "metadata": {},
   "outputs": [],
   "source": [
    "!pip install git+https://github.com/MAAP-Project/maap-py.git@master#egg=maap-py"
   ]
  },
  {
   "cell_type": "code",
   "execution_count": null,
   "id": "eb607a52-efbd-4674-8a55-06a937acd233",
   "metadata": {},
   "outputs": [],
   "source": [
    "!python3 demo-submit-jobs.py "
   ]
  },
  {
   "cell_type": "code",
   "execution_count": null,
   "id": "c210c2e7-4bc1-4e4c-bd5f-ab14ccc2ea19",
   "metadata": {},
   "outputs": [],
   "source": [
    "!python3 demo-maap-get-result-s3.py"
   ]
  }
 ],
 "metadata": {
  "kernelspec": {
   "display_name": "Python 3 (ipykernel)",
   "language": "python",
   "name": "python3"
  },
  "language_info": {
   "codemirror_mode": {
    "name": "ipython",
    "version": 3
   },
   "file_extension": ".py",
   "mimetype": "text/x-python",
   "name": "python",
   "nbconvert_exporter": "python",
   "pygments_lexer": "ipython3",
   "version": "3.11.9"
  }
 },
 "nbformat": 4,
 "nbformat_minor": 5
}
